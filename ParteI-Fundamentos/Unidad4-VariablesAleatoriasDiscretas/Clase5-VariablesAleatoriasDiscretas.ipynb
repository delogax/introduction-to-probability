{
 "cells": [
  {
   "cell_type": "markdown",
   "metadata": {},
   "source": [
    "# Variables Aleatorias Discretas\n",
    "\n",
    "___"
   ]
  },
  {
   "cell_type": "markdown",
   "metadata": {},
   "source": [
    "## 1. Conceptos básicos\n",
    "\n",
    "### 1.1. Introducción\n",
    "1. En muchos modelos probabilísticos, los resultados son numéricos:\n",
    " - lectura de un sensor,\n",
    " - precio de un activo,\n",
    " - entre otros."
   ]
  },
  {
   "cell_type": "markdown",
   "metadata": {},
   "source": [
    "2. En otros modelos, los resultados pueden no ser numéricos:\n",
    " - tirar una moneda, o\n",
    " - problema de clasificación,\n",
    " \n",
    " pero pueden asociarse con valores numéricos de interés."
   ]
  },
  {
   "cell_type": "markdown",
   "metadata": {},
   "source": [
    "3. Dado un experimento y el conjunto de posibles resultados ($\\Omega$), una **variable aleatoria** (VA) asocia a cada resultado un número particular.\n",
    "\n",
    "<img style=\"float: right; margin: 0px 0px 15px 15px;\" src=\"https://upload.wikimedia.org/wikipedia/commons/c/c4/Random_Variable_as_a_Function-en.svg\" width=\"500px\" height=\"500px\" />"
   ]
  },
  {
   "cell_type": "markdown",
   "metadata": {},
   "source": [
    "4. Matemáticamente, una variable aleatoria es una función de los resultados con valores en los números reales $X:\\Omega\\to\\mathbb{R}$."
   ]
  },
  {
   "cell_type": "markdown",
   "metadata": {},
   "source": [
    "*Ejemplos:*\n",
    "- En un experimento que involucra una secuencia de $5$ tiros de una moneda, el número de \"caras\" en la secuencia es una variable aleatoria. Sin embargo, la secuencia de longitud $5$ de \"caras\" y \"sellos\" no es una variable aleatoria puesto que no se le ha asignado un valor numérico específico.\n",
    "- En un experimento que consta de dos tiros de un dado, los siguientes son ejemplos de variables aleatorias:\n",
    " - la suma de los dos tiros;\n",
    " - el número de \"seis\" en los tiros;\n",
    " - el valor del segundo tiro a la quinta potencia."
   ]
  },
  {
   "cell_type": "markdown",
   "metadata": {},
   "source": [
    "Bueno, *¿y porqué trabajar con VA y no con los resultados tal cual?*\n",
    "- básicamente, porque al traducir los resultados a valores numéricos, pordemos asociarle ciertas medidas de interés, tales como tendencia central, medidas de dispersión, etcétera;\n",
    "- otra ventaja es que podemos estudiar funciones de VA, que son en si una VA."
   ]
  },
  {
   "cell_type": "markdown",
   "metadata": {},
   "source": [
    "### 1.2. VA discretas\n",
    "\n",
    "Una VA es llamada **discreta** si su imagen (rango o codominio -- el conjunto de valores que puede tomar) es *finito* o *contable*. Los ejemplos que dimos anteriormente corresponden a VA discretas."
   ]
  },
  {
   "cell_type": "markdown",
   "metadata": {},
   "source": [
    "*Ejemplo:*\n",
    "- Considere el experimento de elegir un punto aleatoriamente en el intervalo $[-1,1]=:\\Omega$. \n",
    " - La VA $X:\\Omega\\to\\Omega$ dada por $X(x)=x$ no es discreta.\n",
    " - La VA $X:\\Omega\\to\\{-1,1\\}$ dada por $$X(x)=\\text{sign}(x)=\\left\\lbrace\\begin{array}{cc}1 & \\text{si }x\\geq0\\\\ -1 & \\text{si }x<0\\end{array}\\right.$$ **si** es discreta."
   ]
  },
  {
   "cell_type": "markdown",
   "metadata": {},
   "source": [
    "*Ejemplo: (<font color=blue> Ir dibujando</font>)*\n",
    "- Supongamos que nuestro espacio muestral somos nosotros como integrantes de R6.\n",
    "- Experimento: tenemos un seleccionador aleatorio que elige a alguno de nosotro al azar y guarda nuestro peso en $kg$.\n",
    "- Entonces podemos tener varios posibles resultados: alguno pesó $68\\,kg$, otro pesó $75\\,kg$, etcétera.\n",
    "- Sin embargo, el valor peso solo se puede determinar una vez se elija a alguno de nosotros en particular.\n",
    "- En este sentido, el peso $W$ es una función del resultado del experimento y por tanto una VA."
   ]
  },
  {
   "cell_type": "markdown",
   "metadata": {},
   "source": [
    "Notar que podemos definir varias variables aleatorias sobre el mismo experimento:\n",
    "- Se elige a alguno de nosotros y se guarda nuestr altura en $m$. Esta es otra VA, digamos $H$.\n",
    "\n",
    "Incluso, teniendo una o varias VA sobre el mismo espacio $\\Omega$, podemos definir funciones de VA, que son en si VA sobre el espacio $\\Omega$.\n",
    "\n",
    "Por ejemplo, si tenemos $W$ y $H$, podemos definir la VA $I=\\frac{W}{H^2}$ (índice de masa corporal). Discutir porqué es VA sobre el mismo espacio."
   ]
  },
  {
   "cell_type": "markdown",
   "metadata": {},
   "source": [
    "*Ejercicios*\n",
    "- Sea $X$ una VA asociada cierto experimento probabilístico y sea $x$ un número:\n",
    " - es siempre cierto que $X+x$ es una VA?\n",
    " - es siempre cierto que $X-x=0$?"
   ]
  },
  {
   "cell_type": "markdown",
   "metadata": {},
   "source": [
    "## 2. Funciones de probabilidad\n",
    "\n",
    "- Entonces, ya sabemos que una VA puede tomar diferentes valores numéricos dependiendo del resultado del experimento.\n",
    "\n",
    "- Algunos resultados pueden ser más probables que otros, asímismo algunos valores numéricos serán más probables.\n",
    "\n",
    "- Para VA discretas, dichas probabilidades son capturadas por la **función de probabilidad**."
   ]
  },
  {
   "cell_type": "markdown",
   "metadata": {},
   "source": [
    "*Ejemplo:*\n",
    "- Siguiendo con el ejemplo del peso. Supongamos que definimos una variable aleatoria del peso redondeado a los valores $60\\,kg$, $70\\,kg$, $80\\,kg$, y $90\\,kg$\n",
    "\n",
    "- Hacer el experimento con todos, definir el espacio muestral y graficar la función que envía del espacio muestral a los puntos $60\\,kg$, $70\\,kg$, $80\\,kg$, y $90\\,kg$ sobre la recta real.\n",
    "\n",
    "- Concentrémonos en el evento $X=70\\,kg$. ¿Qué evento es este? ¿Cuál es su probabilidad?\n",
    " - Respuesta 1:\n",
    " - Respuesta 2:"
   ]
  },
  {
   "cell_type": "markdown",
   "metadata": {},
   "source": [
    "Supongamos que la VA $X$ puede tomar un valor $x$. Entonces la función de probabilidad \n",
    "\n",
    "$$p_X(x)=P(\\{X=x\\})=P(\\{\\omega\\in\\Omega\\,|\\,X(\\omega)=x\\}),$$\n",
    "\n",
    "es la probabilidad del evento ${X=x}$ que consiste de todos los posibles resultados que provocan que $X$ sea igual a $x$."
   ]
  },
  {
   "cell_type": "markdown",
   "metadata": {},
   "source": [
    "- Se escribe el subíndice $X$ para especificar a qué VA nos referimos, y es particularmente útil cuando estamos trabajando con múltiples VA.\n",
    "- Si la VA se infiere del contexto, no es necesario el subíndice."
   ]
  },
  {
   "cell_type": "markdown",
   "metadata": {},
   "source": [
    "- Es una función que asigna a cada posible valor de la VA, la probabilidad de dicho evento.\n",
    "- Propiedades (heredadas de los axiomas):\n",
    " - $0\\leq p_X(x)\\leq 1$\n",
    " - $\\sum_{x} p_X(x)=1$"
   ]
  },
  {
   "cell_type": "markdown",
   "metadata": {},
   "source": [
    "*Ejemplo:*\n",
    "- Consideramos el ejemplo de los dos tiros del dado de cuatro caras (<font color=blue> dibujar cuadrícula de 4 x 4</font>).\n",
    "- Sea $X$ el resultado del primer tiro y $Y$ el resultado del segundo. Notar que $X,Y$ son VA.\n",
    "- Definimos la VA $Z=X+Y$. Llenar cada cuadro con el valor respectivo de $Z$.\n",
    "- Calcular $p_Z(z)$ y dibujar."
   ]
  },
  {
   "cell_type": "markdown",
   "metadata": {},
   "source": [
    "*Ejercicio:*\n",
    "Del ejemplo anterior, definimos $W=XY$. Hallar:\n",
    "- $p_W(4)=$\n",
    "- $p_W(5)=$"
   ]
  },
  {
   "cell_type": "markdown",
   "metadata": {},
   "source": [
    "## 3. VA de Bernoulli\n",
    "\n",
    "- Es la VA más simple de todas: una VA que solo toma valores en el conjunto $\\{0,1\\}$ con probabilidades dadas. \n",
    "\n",
    "$$X=\\left\\lbrace\\begin{array}{cc}1 & \\text{con probabilidad }p\\\\ 0 & \\text{con probabilidad }1-p\\end{array}\\right.$$\n",
    "\n",
    "- La distribución de esta VA se determina por el parámetro $0\\leq p\\leq 1$.\n",
    "\n",
    "- En términos de función de probabilidad: <font color=blue> en el tablero</font>."
   ]
  },
  {
   "cell_type": "markdown",
   "metadata": {},
   "source": [
    "¿Dónde surgen este tipo de VA?"
   ]
  },
  {
   "cell_type": "markdown",
   "metadata": {},
   "source": [
    "*Ejercicio:* Sean $A$ y $B$ dos eventos del mismo espacio $\\Omega$. Sean $I_A$ e $I_B$ sus respectivas VA indicadoras (de Bernoulli). ¿Verdadero o Falso?\n",
    "- $I_A + I_B$ es una VA de Bernoulli. Si lo es, ¿qué evento indica?\n",
    "- $I_AI_B$ es una VA de Bernoulli. Si lo es, ¿qué evento indica?"
   ]
  },
  {
   "cell_type": "code",
   "execution_count": 8,
   "metadata": {},
   "outputs": [],
   "source": [
    "import numpy as np\n",
    "import matplotlib.pyplot as plt\n",
    "%matplotlib inline"
   ]
  },
  {
   "cell_type": "code",
   "execution_count": 68,
   "metadata": {},
   "outputs": [],
   "source": [
    "results = np.random.randint(low=0, high=100, size=(100,))\n",
    "I = results<70"
   ]
  },
  {
   "cell_type": "code",
   "execution_count": 69,
   "metadata": {},
   "outputs": [
    {
     "data": {
      "image/png": "[encoded data removed]",
      "text/plain": [
       "<Figure size 432x288 with 1 Axes>"
      ]
     },
     "metadata": {},
     "output_type": "display_data"
    }
   ],
   "source": [
    "plt.hist(I, bins=100);"
   ]
  },
  {
   "cell_type": "markdown",
   "metadata": {},
   "source": [
    "## 4. VA Uniformes\n",
    "\n",
    "- Una VA uniforme discreta tiene una función de probabilidad especial: <font color=blue> en el tablero</font>.\n",
    "\n",
    "- Toma valores en cierto rango, y cada uno de los valores tiene igual probabilidad.\n",
    "\n",
    "- La distribución de esta VA se determina por los parámetros $a,b$, con $a\\leq b$.\n",
    "\n",
    "- Corresponde al experimento de tomar un valor del conjunto muestral $$\\Omega=\\{a, a+1, \\dots, b\\},$$ y asignar la VA $X(\\omega)=\\omega$."
   ]
  },
  {
   "cell_type": "markdown",
   "metadata": {},
   "source": [
    "- Modela el caso en que tenemos un rango de posibles valores y no tenemos razón alguna para creer que alguno de los valores es más probable que otros.\n",
    "- *Ejemplo:* si miras el reloj en cualquier momento del día y te concentras  únicamente en el valor del segundero: puede tomar cualquier valor entre $0$ y $59$, con igual probabilidad."
   ]
  },
  {
   "cell_type": "code",
   "execution_count": 64,
   "metadata": {},
   "outputs": [],
   "source": [
    "U = np.random.randint(low=0, high=10, size=(100,))"
   ]
  },
  {
   "cell_type": "code",
   "execution_count": 66,
   "metadata": {},
   "outputs": [
    {
     "data": {
      "image/png": "[encoded data removed]",
      "text/plain": [
       "<Figure size 432x288 with 1 Axes>"
      ]
     },
     "metadata": {},
     "output_type": "display_data"
    }
   ],
   "source": [
    "plt.hist(U, bins=100);"
   ]
  },
  {
   "cell_type": "markdown",
   "metadata": {},
   "source": [
    "## 5. VA binomiales\n",
    "\n",
    "- Ya estamos más o menos acostumbrados a este tipo de VA.\n",
    "\n",
    "- Se asocia con el experimento de tirar una moneda $n$ veces, cuyos tiros son independientes. A cada tiro, hay una probabilidad $p$ de que caiga $H$.\n",
    "\n",
    "- La distribución de una VA binomial está completamente especificada ṕr los parámetros $n$ y $p$.\n",
    "\n",
    "- El espacio muestral es el conjunto de sucesiones de $H$ y $T$, de longitud $n$."
   ]
  },
  {
   "cell_type": "markdown",
   "metadata": {},
   "source": [
    "- Se asigna la VA $X$, de número de $H$ observadas.\n",
    "\n",
    "- Para $n=3$: <font color=blue> en el tablero</font>.\n",
    "\n",
    "- Calcular $p_X(2)$\n",
    "\n",
    "- En general $p_X(k)$"
   ]
  },
  {
   "cell_type": "code",
   "execution_count": 80,
   "metadata": {},
   "outputs": [],
   "source": [
    "X = np.random.binomial(n=3, p=0.5, size=(100,))"
   ]
  },
  {
   "cell_type": "code",
   "execution_count": 81,
   "metadata": {},
   "outputs": [
    {
     "data": {
      "image/png": "[encoded data removed]",
      "text/plain": [
       "<Figure size 432x288 with 1 Axes>"
      ]
     },
     "metadata": {},
     "output_type": "display_data"
    }
   ],
   "source": [
    "plt.hist(X, bins=100);"
   ]
  },
  {
   "cell_type": "code",
   "execution_count": null,
   "metadata": {},
   "outputs": [],
   "source": []
  }
 ],
 "metadata": {
  "kernelspec": {
   "display_name": "Python 3",
   "language": "python",
   "name": "python3"
  },
  "language_info": {
   "codemirror_mode": {
    "name": "ipython",
    "version": 3
   },
   "file_extension": ".py",
   "mimetype": "text/x-python",
   "name": "python",
   "nbconvert_exporter": "python",
   "pygments_lexer": "ipython3",
   "version": "3.6.7"
  }
 },
 "nbformat": 4,
 "nbformat_minor": 2
}
